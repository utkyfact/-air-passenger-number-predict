{
 "cells": [
  {
   "cell_type": "markdown",
   "id": "0e60810c",
   "metadata": {},
   "source": [
    "# AIRLINE PASSENGER (TIME SERIES) PREDICTION USING LSTM\n",
    "\n",
    "We will use Airline Passenger dataset for this project. This dataset provides monthly totals of a US airline passengers from 1949 to 1960. You can download the dataset from Kaggle link below: \n",
    "https://www.kaggle.com/chirag19/air-passengers\n",
    "\n",
    "We will use LSTM deep learning model for this project. The Long Short-Term Memory network, or LSTM network, is a recurrent neural network that is trained using Backpropagation through time and overcomes the vanishing gradient problem. LSTM can be used to create large recurrent networks that in turn can be used to address difficult sequence problems in machine learning and achieve state-of-the-art results. Instead of neurons, LSTM networks have memory blocks that are connected through layers.\n",
    "\n",
    "#### Aim of the project:\n",
    "\n",
    "Given the number of passengers (in units of thousands) for last two months, what is the number of passengers next month? In order to solve this problem we will build a LSTM model and train this model with our train data which is first 100 months in our dataset. After the LSTM model training finishes and learn the pattern in time series train data, we will ask it the above question  question and get the answer from it."
   ]
  },
  {
   "cell_type": "code",
   "execution_count": 1,
   "id": "fbcb8878",
   "metadata": {},
   "outputs": [],
   "source": [
    "import pandas as pd\n",
    "import numpy as np\n",
    "import matplotlib.pyplot as plt\n",
    "import tensorflow as tf\n",
    "from tensorflow.keras.layers import Dense,LSTM  # I use keras over Tensorflow 2, so I don't need extra Keras libraries.\n",
    "from tensorflow.keras.models import Sequential  # Tensorflow includes Keras libraries after 2nd version of Tensorflow\n",
    "from sklearn.preprocessing import MinMaxScaler  # If you have Tensorflow 1, please upgrade your library using:\n",
    "                                                # conda install tensorflow\n",
    "                                                # This command will upgrade your Tensorflow module to the latest version."
   ]
  },
  {
   "cell_type": "code",
   "execution_count": 2,
   "id": "a137b34f",
   "metadata": {},
   "outputs": [
    {
     "data": {
      "text/html": [
       "<div>\n",
       "<style scoped>\n",
       "    .dataframe tbody tr th:only-of-type {\n",
       "        vertical-align: middle;\n",
       "    }\n",
       "\n",
       "    .dataframe tbody tr th {\n",
       "        vertical-align: top;\n",
       "    }\n",
       "\n",
       "    .dataframe thead th {\n",
       "        text-align: right;\n",
       "    }\n",
       "</style>\n",
       "<table border=\"1\" class=\"dataframe\">\n",
       "  <thead>\n",
       "    <tr style=\"text-align: right;\">\n",
       "      <th></th>\n",
       "      <th>Month</th>\n",
       "      <th>#Passengers</th>\n",
       "    </tr>\n",
       "  </thead>\n",
       "  <tbody>\n",
       "    <tr>\n",
       "      <th>0</th>\n",
       "      <td>1949-01</td>\n",
       "      <td>112</td>\n",
       "    </tr>\n",
       "    <tr>\n",
       "      <th>1</th>\n",
       "      <td>1949-02</td>\n",
       "      <td>118</td>\n",
       "    </tr>\n",
       "    <tr>\n",
       "      <th>2</th>\n",
       "      <td>1949-03</td>\n",
       "      <td>132</td>\n",
       "    </tr>\n",
       "    <tr>\n",
       "      <th>3</th>\n",
       "      <td>1949-04</td>\n",
       "      <td>129</td>\n",
       "    </tr>\n",
       "    <tr>\n",
       "      <th>4</th>\n",
       "      <td>1949-05</td>\n",
       "      <td>121</td>\n",
       "    </tr>\n",
       "  </tbody>\n",
       "</table>\n",
       "</div>"
      ],
      "text/plain": [
       "     Month  #Passengers\n",
       "0  1949-01          112\n",
       "1  1949-02          118\n",
       "2  1949-03          132\n",
       "3  1949-04          129\n",
       "4  1949-05          121"
      ]
     },
     "execution_count": 2,
     "metadata": {},
     "output_type": "execute_result"
    }
   ],
   "source": [
    "# You can downlad the dataset from Kaggle link below:\n",
    "# https://www.kaggle.com/chirag19/air-passengers\n",
    "\n",
    "data = pd.read_csv('AirPassengers.csv')\n",
    "data.head()"
   ]
  },
  {
   "cell_type": "code",
   "execution_count": 3,
   "id": "dfa2dc13",
   "metadata": {},
   "outputs": [],
   "source": [
    "data.rename(columns={'#Passengers':'passengers'},inplace=True)\n",
    "# Since this is a time series, we need only second column.. So data now contains only passenger count...\n",
    "data = data['passengers']\n"
   ]
  },
  {
   "cell_type": "code",
   "execution_count": 4,
   "id": "6902e839",
   "metadata": {},
   "outputs": [
    {
     "data": {
      "text/plain": [
       "pandas.core.series.Series"
      ]
     },
     "execution_count": 4,
     "metadata": {},
     "output_type": "execute_result"
    }
   ],
   "source": [
    "type(data)"
   ]
  },
  {
   "cell_type": "code",
   "execution_count": 5,
   "id": "e9ee09bb",
   "metadata": {},
   "outputs": [
    {
     "data": {
      "text/plain": [
       "0      112\n",
       "1      118\n",
       "2      132\n",
       "3      129\n",
       "4      121\n",
       "      ... \n",
       "139    606\n",
       "140    508\n",
       "141    461\n",
       "142    390\n",
       "143    432\n",
       "Name: passengers, Length: 144, dtype: int64"
      ]
     },
     "execution_count": 5,
     "metadata": {},
     "output_type": "execute_result"
    }
   ],
   "source": [
    "data"
   ]
  },
  {
   "cell_type": "markdown",
   "id": "23624fc8",
   "metadata": {},
   "source": [
    "My data fromat is Series, but I need 2D array for MinMaxScaler() and my other methods to work. So I will change to numpy array and reshape it."
   ]
  },
  {
   "cell_type": "code",
   "execution_count": 6,
   "id": "ea50b9f6",
   "metadata": {},
   "outputs": [],
   "source": [
    "data=np.array(data).reshape(-1,1)"
   ]
  },
  {
   "cell_type": "code",
   "execution_count": 7,
   "id": "cb6ccb78",
   "metadata": {},
   "outputs": [
    {
     "data": {
      "text/plain": [
       "numpy.ndarray"
      ]
     },
     "execution_count": 7,
     "metadata": {},
     "output_type": "execute_result"
    }
   ],
   "source": [
    "# ok, now we have 2D numpy array...\n",
    "type(data)"
   ]
  },
  {
   "cell_type": "code",
   "execution_count": 8,
   "id": "c9a395c2",
   "metadata": {},
   "outputs": [
    {
     "data": {
      "image/png": "[encoded data removed]",
      "text/plain": [
       "<Figure size 640x480 with 1 Axes>"
      ]
     },
     "metadata": {},
     "output_type": "display_data"
    }
   ],
   "source": [
    "# Lets plot our data:\n",
    "plt.plot(data)\n",
    "plt.show()"
   ]
  },
  {
   "cell_type": "markdown",
   "id": "49a6069d",
   "metadata": {},
   "source": [
    "### Scaling..\n",
    "\n",
    "LSTM is sensitive to the scale of the input data. So we will rescale the data to the range of 0-to-1, also called normalizing. "
   ]
  },
  {
   "cell_type": "code",
   "execution_count": 9,
   "id": "8f15497a",
   "metadata": {},
   "outputs": [],
   "source": [
    "scaler = MinMaxScaler()\n",
    "data = scaler.fit_transform(data)"
   ]
  },
  {
   "cell_type": "markdown",
   "id": "613cad19",
   "metadata": {},
   "source": [
    "### Train, Test split"
   ]
  },
  {
   "cell_type": "code",
   "execution_count": 10,
   "id": "c5ee89a9",
   "metadata": {},
   "outputs": [
    {
     "data": {
      "text/plain": [
       "144"
      ]
     },
     "execution_count": 10,
     "metadata": {},
     "output_type": "execute_result"
    }
   ],
   "source": [
    "len(data)"
   ]
  },
  {
   "cell_type": "markdown",
   "id": "31ad060a",
   "metadata": {},
   "source": [
    "I have 144 data. I will use 100 of it as train set and 44 as test set.."
   ]
  },
  {
   "cell_type": "code",
   "execution_count": 11,
   "id": "48850205",
   "metadata": {},
   "outputs": [],
   "source": [
    "train = data[0:100,:]\n",
    "test = data[100:,:]"
   ]
  },
  {
   "cell_type": "markdown",
   "id": "786bd015",
   "metadata": {},
   "source": [
    "We will now define a function to prepare the train and test datasets for modeling. The function takes two arguments: the dataset, which is a NumPy array that we want to convert into a dataset, and the steps, which is the number of previous time steps to use as input variables to predict the next time period.\n",
    "\n"
   ]
  },
  {
   "cell_type": "code",
   "execution_count": 12,
   "id": "551aaf73",
   "metadata": {},
   "outputs": [],
   "source": [
    "def get_data(data, steps):      \n",
    "    dataX = []\n",
    "    dataY = []\n",
    "    for i in range(len(data)-steps-1):\n",
    "        a = data[i:(i+steps), 0]\n",
    "        dataX.append(a)\n",
    "        dataY.append(data[i+steps, 0])\n",
    "    return np.array(dataX), np.array(dataY)"
   ]
  },
  {
   "cell_type": "markdown",
   "id": "e1e0c68d",
   "metadata": {},
   "source": [
    "So using this \"get_data\" function I will prepare a dataset for modeling... Then I give this new prepared datset to my model for training..."
   ]
  },
  {
   "cell_type": "code",
   "execution_count": 13,
   "id": "4374c4c4",
   "metadata": {},
   "outputs": [],
   "source": [
    "steps = 2\n"
   ]
  },
  {
   "cell_type": "markdown",
   "id": "ee830a29",
   "metadata": {},
   "source": [
    "#### Now I'm making my datasets for both training and testing.."
   ]
  },
  {
   "cell_type": "markdown",
   "id": "ead04c51",
   "metadata": {},
   "source": [
    "Important: You must have numpy version 1.19 in your Anaconda environment for LSTM work. If you have a error like \"NotImplementedError: Cannot convert a symbolic Tensor (lstm/strided_slice:0) to a numpy array.\" you must change your numpy version to 1.19 using this commnad:\n",
    "\n",
    "conda install numpy=1.19"
   ]
  },
  {
   "cell_type": "code",
   "execution_count": 14,
   "id": "e9b313e3",
   "metadata": {},
   "outputs": [],
   "source": [
    "X_train, y_train = get_data(train, steps)\n",
    "X_test, y_test = get_data(test, steps)\n",
    "\n",
    "\n"
   ]
  },
  {
   "cell_type": "code",
   "execution_count": 15,
   "id": "354be95c",
   "metadata": {},
   "outputs": [],
   "source": [
    "# Im reshaping my sets for using in LSTM model.. model bunu istiyor...\n",
    "X_train = np.reshape(X_train, (X_train.shape[0], 1, X_train.shape[1]))\n",
    "X_test = np.reshape(X_test, (X_test.shape[0], 1, X_test.shape[1]))\n"
   ]
  },
  {
   "cell_type": "code",
   "execution_count": 16,
   "id": "2b73f163",
   "metadata": {},
   "outputs": [],
   "source": [
    "# I will use a Sequential model with 2 hidden layers\n",
    "# Instead of neurons, LSTM networks have memory blocks that are connected through layers.\n",
    "# The default sigmoid activation function is used for the LSTM blocks. \n",
    "\n",
    "model = Sequential()\n",
    "model.add(LSTM(128, input_shape = (1, steps)))  # This is my first hidden layer with 128 memory blocks\n",
    "model.add(Dense(64))                                  # This is my second hidden layer with 64 memory blocks\n",
    "model.add(Dense(1))   # This is my output layer\n",
    "model.compile(loss = 'mean_squared_error', optimizer = 'adam')"
   ]
  },
  {
   "cell_type": "code",
   "execution_count": 17,
   "id": "0fbfac98",
   "metadata": {},
   "outputs": [
    {
     "name": "stdout",
     "output_type": "stream",
     "text": [
      "Model: \"sequential\"\n",
      "_________________________________________________________________\n",
      "Layer (type)                 Output Shape              Param #   \n",
      "=================================================================\n",
      "lstm (LSTM)                  (None, 128)               67072     \n",
      "_________________________________________________________________\n",
      "dense (Dense)                (None, 64)                8256      \n",
      "_________________________________________________________________\n",
      "dense_1 (Dense)              (None, 1)                 65        \n",
      "=================================================================\n",
      "Total params: 75,393\n",
      "Trainable params: 75,393\n",
      "Non-trainable params: 0\n",
      "_________________________________________________________________\n"
     ]
    }
   ],
   "source": [
    "model.summary()"
   ]
  },
  {
   "cell_type": "markdown",
   "id": "13c0ae01",
   "metadata": {},
   "source": [
    "### Now it's time to train our model..."
   ]
  },
  {
   "cell_type": "code",
   "execution_count": null,
   "id": "7cacaf8a",
   "metadata": {},
   "outputs": [],
   "source": [
    "model.fit(X_train, y_train, epochs=25, batch_size=1)"
   ]
  },
  {
   "cell_type": "markdown",
   "id": "d95e2366",
   "metadata": {},
   "source": [
    "### Let's make prediction.."
   ]
  },
  {
   "cell_type": "code",
   "execution_count": null,
   "id": "bde23567",
   "metadata": {},
   "outputs": [],
   "source": [
    "y_pred = model.predict(X_test)"
   ]
  },
  {
   "cell_type": "markdown",
   "id": "b76ab3f2",
   "metadata": {},
   "source": [
    "We should rescale the prediction results, because our model gives us scaled predictions.."
   ]
  },
  {
   "cell_type": "code",
   "execution_count": null,
   "id": "b4a0787d",
   "metadata": {},
   "outputs": [],
   "source": [
    "y_pred = scaler.inverse_transform(y_pred)\n",
    "y_test = y_test.reshape(-1, 1)\n",
    "y_test = scaler.inverse_transform(y_test)"
   ]
  },
  {
   "cell_type": "markdown",
   "id": "e88918b2",
   "metadata": {},
   "source": [
    "### Now plot the test set results... Remember our test set contains last 44 data in original dataset.."
   ]
  },
  {
   "cell_type": "code",
   "execution_count": null,
   "id": "08ae8e7e",
   "metadata": {},
   "outputs": [],
   "source": [
    "# plot real number of passengers and predictions...\n",
    "plt.plot(y_test, label = 'real number of passengers')\n",
    "plt.plot(y_pred, label = 'predicted number of passengers')\n",
    "plt.ylabel('Months')\n",
    "plt.ylabel('Number of passengers')\n",
    "plt.legend()\n",
    "plt.show()"
   ]
  },
  {
   "cell_type": "code",
   "execution_count": null,
   "id": "8cabfba9",
   "metadata": {},
   "outputs": [],
   "source": []
  },
  {
   "cell_type": "code",
   "execution_count": null,
   "id": "ec0926b9",
   "metadata": {},
   "outputs": [],
   "source": []
  }
 ],
 "metadata": {
  "kernelspec": {
   "display_name": "Python 3 (ipykernel)",
   "language": "python",
   "name": "python3"
  },
  "language_info": {
   "codemirror_mode": {
    "name": "ipython",
    "version": 3
   },
   "file_extension": ".py",
   "mimetype": "text/x-python",
   "name": "python",
   "nbconvert_exporter": "python",
   "pygments_lexer": "ipython3",
   "version": "3.9.18"
  }
 },
 "nbformat": 4,
 "nbformat_minor": 5
}
